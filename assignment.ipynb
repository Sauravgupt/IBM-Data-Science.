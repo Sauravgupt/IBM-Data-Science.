{
 "cells": [
  {
   "cell_type": "code",
   "execution_count": 1,
   "id": "02f9c300-3b23-4ed7-a511-d3be0078455b",
   "metadata": {},
   "outputs": [],
   "source": [
    "import yfinance as yf"
   ]
  },
  {
   "cell_type": "code",
   "execution_count": 7,
   "id": "628b8962-f329-4246-b19d-7848972740ff",
   "metadata": {},
   "outputs": [],
   "source": [
    "import requests\n",
    "from bs4 import BeautifulSoup"
   ]
  },
  {
   "cell_type": "code",
   "execution_count": 2,
   "id": "235c1821-7eb3-491f-b292-dea9af0f3b58",
   "metadata": {},
   "outputs": [],
   "source": [
    "gamestop = yf.Ticker(\"GME\")"
   ]
  },
  {
   "cell_type": "code",
   "execution_count": 3,
   "id": "8e37085f-9b8f-430d-a37a-ac224645611f",
   "metadata": {},
   "outputs": [],
   "source": [
    "gamestop_stock = gamestop.history(period=\"max\")"
   ]
  },
  {
   "cell_type": "code",
   "execution_count": 4,
   "id": "343e2172-64a9-4a0c-8363-9e55f63419f6",
   "metadata": {},
   "outputs": [
    {
     "data": {
      "text/html": [
       "<div>\n",
       "<style scoped>\n",
       "    .dataframe tbody tr th:only-of-type {\n",
       "        vertical-align: middle;\n",
       "    }\n",
       "\n",
       "    .dataframe tbody tr th {\n",
       "        vertical-align: top;\n",
       "    }\n",
       "\n",
       "    .dataframe thead th {\n",
       "        text-align: right;\n",
       "    }\n",
       "</style>\n",
       "<table border=\"1\" class=\"dataframe\">\n",
       "  <thead>\n",
       "    <tr style=\"text-align: right;\">\n",
       "      <th></th>\n",
       "      <th>Open</th>\n",
       "      <th>High</th>\n",
       "      <th>Low</th>\n",
       "      <th>Close</th>\n",
       "      <th>Volume</th>\n",
       "      <th>Dividends</th>\n",
       "      <th>Stock Splits</th>\n",
       "    </tr>\n",
       "    <tr>\n",
       "      <th>Date</th>\n",
       "      <th></th>\n",
       "      <th></th>\n",
       "      <th></th>\n",
       "      <th></th>\n",
       "      <th></th>\n",
       "      <th></th>\n",
       "      <th></th>\n",
       "    </tr>\n",
       "  </thead>\n",
       "  <tbody>\n",
       "    <tr>\n",
       "      <th>2002-02-13 00:00:00-05:00</th>\n",
       "      <td>1.620128</td>\n",
       "      <td>1.693350</td>\n",
       "      <td>1.603296</td>\n",
       "      <td>1.691666</td>\n",
       "      <td>76216000</td>\n",
       "      <td>0.0</td>\n",
       "      <td>0.0</td>\n",
       "    </tr>\n",
       "    <tr>\n",
       "      <th>2002-02-14 00:00:00-05:00</th>\n",
       "      <td>1.712707</td>\n",
       "      <td>1.716074</td>\n",
       "      <td>1.670626</td>\n",
       "      <td>1.683250</td>\n",
       "      <td>11021600</td>\n",
       "      <td>0.0</td>\n",
       "      <td>0.0</td>\n",
       "    </tr>\n",
       "    <tr>\n",
       "      <th>2002-02-15 00:00:00-05:00</th>\n",
       "      <td>1.683250</td>\n",
       "      <td>1.687458</td>\n",
       "      <td>1.658001</td>\n",
       "      <td>1.674834</td>\n",
       "      <td>8389600</td>\n",
       "      <td>0.0</td>\n",
       "      <td>0.0</td>\n",
       "    </tr>\n",
       "    <tr>\n",
       "      <th>2002-02-19 00:00:00-05:00</th>\n",
       "      <td>1.666418</td>\n",
       "      <td>1.666418</td>\n",
       "      <td>1.578047</td>\n",
       "      <td>1.607504</td>\n",
       "      <td>7410400</td>\n",
       "      <td>0.0</td>\n",
       "      <td>0.0</td>\n",
       "    </tr>\n",
       "    <tr>\n",
       "      <th>2002-02-20 00:00:00-05:00</th>\n",
       "      <td>1.615920</td>\n",
       "      <td>1.662209</td>\n",
       "      <td>1.603296</td>\n",
       "      <td>1.662209</td>\n",
       "      <td>6892800</td>\n",
       "      <td>0.0</td>\n",
       "      <td>0.0</td>\n",
       "    </tr>\n",
       "  </tbody>\n",
       "</table>\n",
       "</div>"
      ],
      "text/plain": [
       "                               Open      High       Low     Close    Volume  \\\n",
       "Date                                                                          \n",
       "2002-02-13 00:00:00-05:00  1.620128  1.693350  1.603296  1.691666  76216000   \n",
       "2002-02-14 00:00:00-05:00  1.712707  1.716074  1.670626  1.683250  11021600   \n",
       "2002-02-15 00:00:00-05:00  1.683250  1.687458  1.658001  1.674834   8389600   \n",
       "2002-02-19 00:00:00-05:00  1.666418  1.666418  1.578047  1.607504   7410400   \n",
       "2002-02-20 00:00:00-05:00  1.615920  1.662209  1.603296  1.662209   6892800   \n",
       "\n",
       "                           Dividends  Stock Splits  \n",
       "Date                                                \n",
       "2002-02-13 00:00:00-05:00        0.0           0.0  \n",
       "2002-02-14 00:00:00-05:00        0.0           0.0  \n",
       "2002-02-15 00:00:00-05:00        0.0           0.0  \n",
       "2002-02-19 00:00:00-05:00        0.0           0.0  \n",
       "2002-02-20 00:00:00-05:00        0.0           0.0  "
      ]
     },
     "execution_count": 4,
     "metadata": {},
     "output_type": "execute_result"
    }
   ],
   "source": [
    "gamestop_stock.head()"
   ]
  },
  {
   "cell_type": "code",
   "execution_count": 5,
   "id": "9a4ceade-90be-4f71-8afd-964c30b587b6",
   "metadata": {},
   "outputs": [],
   "source": [
    "url_gme = \"https://finance.yahoo.com/quote/GME/financials\""
   ]
  },
  {
   "cell_type": "code",
   "execution_count": 8,
   "id": "365551eb-60ee-4fba-8f66-225a646cdd76",
   "metadata": {},
   "outputs": [],
   "source": [
    "response_gme = requests.get(url_gme)"
   ]
  },
  {
   "cell_type": "code",
   "execution_count": 9,
   "id": "5e0f44ee-b037-47f0-90ba-4caa8627c340",
   "metadata": {},
   "outputs": [],
   "source": [
    "soup_gme = BeautifulSoup(response_gme.text, \"html.parser\")\n"
   ]
  },
  {
   "cell_type": "code",
   "execution_count": 13,
   "id": "58c95a7f-97e1-4710-bfda-81a8df62b0eb",
   "metadata": {},
   "outputs": [
    {
     "ename": "IndexError",
     "evalue": "list index out of range",
     "output_type": "error",
     "traceback": [
      "\u001b[0;31m---------------------------------------------------------------------------\u001b[0m",
      "\u001b[0;31mIndexError\u001b[0m                                Traceback (most recent call last)",
      "Cell \u001b[0;32mIn[13], line 1\u001b[0m\n\u001b[0;32m----> 1\u001b[0m gme_revenue_table \u001b[38;5;241m=\u001b[39m \u001b[43msoup_gme\u001b[49m\u001b[38;5;241;43m.\u001b[39;49m\u001b[43mfind_all\u001b[49m\u001b[43m(\u001b[49m\u001b[38;5;124;43m\"\u001b[39;49m\u001b[38;5;124;43mtable\u001b[39;49m\u001b[38;5;124;43m\"\u001b[39;49m\u001b[43m)\u001b[49m\u001b[43m[\u001b[49m\u001b[38;5;241;43m0\u001b[39;49m\u001b[43m]\u001b[49m\n",
      "\u001b[0;31mIndexError\u001b[0m: list index out of range"
     ]
    }
   ],
   "source": [
    "gme_revenue_table = soup_gme.find_all(\"table\")[0]"
   ]
  },
  {
   "cell_type": "code",
   "execution_count": 12,
   "id": "6fd26f48-e7dc-4dd0-a8ad-e3b703b709c0",
   "metadata": {},
   "outputs": [
    {
     "name": "stdout",
     "output_type": "stream",
     "text": [
      "[]\n"
     ]
    }
   ],
   "source": [
    "print(gme_revenue_table)"
   ]
  },
  {
   "cell_type": "code",
   "execution_count": 14,
   "id": "79f21bd1-83d7-4d4d-8d9b-4927395830dc",
   "metadata": {},
   "outputs": [
    {
     "ename": "NameError",
     "evalue": "name 'gme' is not defined",
     "output_type": "error",
     "traceback": [
      "\u001b[0;31m---------------------------------------------------------------------------\u001b[0m",
      "\u001b[0;31mNameError\u001b[0m                                 Traceback (most recent call last)",
      "Cell \u001b[0;32mIn[14], line 1\u001b[0m\n\u001b[0;32m----> 1\u001b[0m gme_financials \u001b[38;5;241m=\u001b[39m \u001b[43mgme\u001b[49m\u001b[38;5;241m.\u001b[39mfinancials\n",
      "\u001b[0;31mNameError\u001b[0m: name 'gme' is not defined"
     ]
    }
   ],
   "source": [
    "gme_financials = gme.financials"
   ]
  },
  {
   "cell_type": "code",
   "execution_count": 15,
   "id": "74288386-92c7-42d1-aafe-a2c0ee56bc32",
   "metadata": {},
   "outputs": [],
   "source": [
    "gme = yf.Ticker(\"GME\")"
   ]
  },
  {
   "cell_type": "code",
   "execution_count": 16,
   "id": "b7ab66eb-e559-4965-9fdd-a5060b48e5a0",
   "metadata": {},
   "outputs": [],
   "source": [
    "gme_financials = gme.financials\n"
   ]
  },
  {
   "cell_type": "code",
   "execution_count": 17,
   "id": "e66c2a0f-748e-4ec6-93fb-5d4b771c7ffc",
   "metadata": {},
   "outputs": [
    {
     "name": "stdout",
     "output_type": "stream",
     "text": [
      "                                                      2024-01-31  \\\n",
      "Tax Effect Of Unusual Items                           -1008000.0   \n",
      "Tax Rate For Calcs                                          0.21   \n",
      "Normalized EBITDA                                     31300000.0   \n",
      "Total Unusual Items                                   -4800000.0   \n",
      "Total Unusual Items Excluding Goodwill                -4800000.0   \n",
      "Net Income From Continuing Operation Net Minori...     6700000.0   \n",
      "Reconciled Depreciation                               56200000.0   \n",
      "Reconciled Cost Of Revenue                          3978600000.0   \n",
      "EBITDA                                                26500000.0   \n",
      "EBIT                                                 -29700000.0   \n",
      "Net Interest Income                                   49500000.0   \n",
      "Interest Expense                                             NaN   \n",
      "Interest Income                                       49500000.0   \n",
      "Normalized Income                                     10492000.0   \n",
      "Net Income From Continuing And Discontinued Ope...     6700000.0   \n",
      "Total Expenses                                      5302500000.0   \n",
      "Total Operating Income As Reported                   -34500000.0   \n",
      "Diluted Average Shares                               305200000.0   \n",
      "Basic Average Shares                                 305100000.0   \n",
      "Diluted EPS                                                 0.02   \n",
      "Basic EPS                                                   0.02   \n",
      "Diluted NI Availto Com Stockholders                    6700000.0   \n",
      "Net Income Common Stockholders                         6700000.0   \n",
      "Net Income                                             6700000.0   \n",
      "Net Income Including Noncontrolling Interests          6700000.0   \n",
      "Net Income Discontinuous Operations                          NaN   \n",
      "Net Income Continuous Operations                       6700000.0   \n",
      "Tax Provision                                          6400000.0   \n",
      "Pretax Income                                         13100000.0   \n",
      "Other Income Expense                                  -6700000.0   \n",
      "Other Non Operating Income Expenses                   -1900000.0   \n",
      "Special Income Charges                                -4800000.0   \n",
      "Gain On Sale Of Ppe                                          NaN   \n",
      "Write Off                                              4800000.0   \n",
      "Impairment Of Capital Assets                                 NaN   \n",
      "Net Non Operating Interest Income Expense             49500000.0   \n",
      "Total Other Finance Cost                             -49500000.0   \n",
      "Interest Expense Non Operating                               NaN   \n",
      "Interest Income Non Operating                         49500000.0   \n",
      "Operating Income                                     -29700000.0   \n",
      "Operating Expense                                   1323900000.0   \n",
      "Selling General And Administration                  1323900000.0   \n",
      "Gross Profit                                        1294200000.0   \n",
      "Cost Of Revenue                                     3978600000.0   \n",
      "Total Revenue                                       5272800000.0   \n",
      "Operating Revenue                                   5272800000.0   \n",
      "\n",
      "                                                      2023-01-31  \\\n",
      "Tax Effect Of Unusual Items                            -567000.0   \n",
      "Tax Rate For Calcs                                          0.21   \n",
      "Normalized EBITDA                                   -244500000.0   \n",
      "Total Unusual Items                                   -2700000.0   \n",
      "Total Unusual Items Excluding Goodwill                -2700000.0   \n",
      "Net Income From Continuing Operation Net Minori...  -313100000.0   \n",
      "Reconciled Depreciation                               61700000.0   \n",
      "Reconciled Cost Of Revenue                          4555100000.0   \n",
      "EBITDA                                              -247200000.0   \n",
      "EBIT                                                -308900000.0   \n",
      "Net Interest Income                                    9500000.0   \n",
      "Interest Expense                                             NaN   \n",
      "Interest Income                                        9500000.0   \n",
      "Normalized Income                                   -310967000.0   \n",
      "Net Income From Continuing And Discontinued Ope...  -313100000.0   \n",
      "Total Expenses                                      6236100000.0   \n",
      "Total Operating Income As Reported                  -311600000.0   \n",
      "Diluted Average Shares                               304200000.0   \n",
      "Basic Average Shares                                 304200000.0   \n",
      "Diluted EPS                                                -1.03   \n",
      "Basic EPS                                                  -1.03   \n",
      "Diluted NI Availto Com Stockholders                 -313100000.0   \n",
      "Net Income Common Stockholders                      -313100000.0   \n",
      "Net Income                                          -313100000.0   \n",
      "Net Income Including Noncontrolling Interests       -313100000.0   \n",
      "Net Income Discontinuous Operations                          0.0   \n",
      "Net Income Continuous Operations                    -313100000.0   \n",
      "Tax Provision                                         11000000.0   \n",
      "Pretax Income                                       -302100000.0   \n",
      "Other Income Expense                                  -2700000.0   \n",
      "Other Non Operating Income Expenses                          NaN   \n",
      "Special Income Charges                                -2700000.0   \n",
      "Gain On Sale Of Ppe                                          0.0   \n",
      "Write Off                                              2700000.0   \n",
      "Impairment Of Capital Assets                           2700000.0   \n",
      "Net Non Operating Interest Income Expense              9500000.0   \n",
      "Total Other Finance Cost                              -9500000.0   \n",
      "Interest Expense Non Operating                               NaN   \n",
      "Interest Income Non Operating                          9500000.0   \n",
      "Operating Income                                    -308900000.0   \n",
      "Operating Expense                                   1681000000.0   \n",
      "Selling General And Administration                  1681000000.0   \n",
      "Gross Profit                                        1372100000.0   \n",
      "Cost Of Revenue                                     4555100000.0   \n",
      "Total Revenue                                       5927200000.0   \n",
      "Operating Revenue                                   5927200000.0   \n",
      "\n",
      "                                                      2022-01-31    2021-01-31  \n",
      "Tax Effect Of Unusual Items                            -241200.0     3464500.0  \n",
      "Tax Rate For Calcs                                         0.036         0.205  \n",
      "Normalized EBITDA                                   -277900000.0  -190900000.0  \n",
      "Total Unusual Items                                   -6700000.0    16900000.0  \n",
      "Total Unusual Items Excluding Goodwill                -6700000.0    16900000.0  \n",
      "Net Income From Continuing Operation Net Minori...  -381300000.0  -214600000.0  \n",
      "Reconciled Depreciation                               77200000.0    80700000.0  \n",
      "Reconciled Cost Of Revenue                          4662900000.0  3830300000.0  \n",
      "EBITDA                                              -284600000.0  -174000000.0  \n",
      "EBIT                                                -361800000.0  -254700000.0  \n",
      "Net Interest Income                                  -26900000.0   -32100000.0  \n",
      "Interest Expense                                      26900000.0    34000000.0  \n",
      "Interest Income                                      -26900000.0   -32100000.0  \n",
      "Normalized Income                                   -374841200.0  -228035500.0  \n",
      "Net Income From Continuing And Discontinued Ope...  -381300000.0  -215300000.0  \n",
      "Total Expenses                                      6372500000.0  5344500000.0  \n",
      "Total Operating Income As Reported                  -368500000.0  -237800000.0  \n",
      "Diluted Average Shares                               290400000.0   260000000.0  \n",
      "Basic Average Shares                                 290400000.0   260000000.0  \n",
      "Diluted EPS                                                -1.31       -0.8275  \n",
      "Basic EPS                                                  -1.31       -0.8275  \n",
      "Diluted NI Availto Com Stockholders                 -381300000.0  -215300000.0  \n",
      "Net Income Common Stockholders                      -381300000.0  -215300000.0  \n",
      "Net Income                                          -381300000.0  -215300000.0  \n",
      "Net Income Including Noncontrolling Interests       -381300000.0  -215300000.0  \n",
      "Net Income Discontinuous Operations                          0.0     -700000.0  \n",
      "Net Income Continuous Operations                    -381300000.0  -214600000.0  \n",
      "Tax Provision                                        -14100000.0   -55300000.0  \n",
      "Pretax Income                                       -395400000.0  -269900000.0  \n",
      "Other Income Expense                                  -6700000.0    16900000.0  \n",
      "Other Non Operating Income Expenses                          NaN           NaN  \n",
      "Special Income Charges                                -6700000.0    16900000.0  \n",
      "Gain On Sale Of Ppe                                          0.0    32400000.0  \n",
      "Write Off                                              6700000.0    15500000.0  \n",
      "Impairment Of Capital Assets                           6700000.0    15500000.0  \n",
      "Net Non Operating Interest Income Expense            -26900000.0   -32100000.0  \n",
      "Total Other Finance Cost                              26900000.0    32100000.0  \n",
      "Interest Expense Non Operating                        26900000.0    34000000.0  \n",
      "Interest Income Non Operating                        -26900000.0   -32100000.0  \n",
      "Operating Income                                    -361800000.0  -254700000.0  \n",
      "Operating Expense                                   1709600000.0  1514200000.0  \n",
      "Selling General And Administration                  1709600000.0  1514200000.0  \n",
      "Gross Profit                                        1347800000.0  1259500000.0  \n",
      "Cost Of Revenue                                     4662900000.0  3830300000.0  \n",
      "Total Revenue                                       6010700000.0  5089800000.0  \n",
      "Operating Revenue                                   6010700000.0  5089800000.0  \n"
     ]
    }
   ],
   "source": [
    "print(gme_financials)"
   ]
  },
  {
   "cell_type": "code",
   "execution_count": 18,
   "id": "9b5bc1a4-7b07-4f18-b3f6-abc560c6b4c6",
   "metadata": {},
   "outputs": [
    {
     "ename": "NameError",
     "evalue": "name 'tesla_stock' is not defined",
     "output_type": "error",
     "traceback": [
      "\u001b[0;31m---------------------------------------------------------------------------\u001b[0m",
      "\u001b[0;31mNameError\u001b[0m                                 Traceback (most recent call last)",
      "Cell \u001b[0;32mIn[18], line 4\u001b[0m\n\u001b[1;32m      1\u001b[0m \u001b[38;5;28;01mimport\u001b[39;00m\u001b[38;5;250m \u001b[39m\u001b[38;5;21;01mmatplotlib\u001b[39;00m\u001b[38;5;21;01m.\u001b[39;00m\u001b[38;5;21;01mpyplot\u001b[39;00m\u001b[38;5;250m \u001b[39m\u001b[38;5;28;01mas\u001b[39;00m\u001b[38;5;250m \u001b[39m\u001b[38;5;21;01mplt\u001b[39;00m\n\u001b[1;32m      3\u001b[0m plt\u001b[38;5;241m.\u001b[39mfigure(figsize\u001b[38;5;241m=\u001b[39m(\u001b[38;5;241m10\u001b[39m,\u001b[38;5;241m5\u001b[39m))\n\u001b[0;32m----> 4\u001b[0m plt\u001b[38;5;241m.\u001b[39mplot(\u001b[43mtesla_stock\u001b[49m\u001b[38;5;241m.\u001b[39mindex, tesla_stock[\u001b[38;5;124m\"\u001b[39m\u001b[38;5;124mClose\u001b[39m\u001b[38;5;124m\"\u001b[39m], label\u001b[38;5;241m=\u001b[39m\u001b[38;5;124m\"\u001b[39m\u001b[38;5;124mTesla Stock Price\u001b[39m\u001b[38;5;124m\"\u001b[39m)\n\u001b[1;32m      5\u001b[0m plt\u001b[38;5;241m.\u001b[39mxlabel(\u001b[38;5;124m\"\u001b[39m\u001b[38;5;124mDate\u001b[39m\u001b[38;5;124m\"\u001b[39m)\n\u001b[1;32m      6\u001b[0m plt\u001b[38;5;241m.\u001b[39mylabel(\u001b[38;5;124m\"\u001b[39m\u001b[38;5;124mStock Price (USD)\u001b[39m\u001b[38;5;124m\"\u001b[39m)\n",
      "\u001b[0;31mNameError\u001b[0m: name 'tesla_stock' is not defined"
     ]
    },
    {
     "data": {
      "text/plain": [
       "<Figure size 1000x500 with 0 Axes>"
      ]
     },
     "metadata": {},
     "output_type": "display_data"
    }
   ],
   "source": [
    "import matplotlib.pyplot as plt\n",
    "\n",
    "plt.figure(figsize=(10,5))\n",
    "plt.plot(tesla_stock.index, tesla_stock[\"Close\"], label=\"Tesla Stock Price\")\n",
    "plt.xlabel(\"Date\")\n",
    "plt.ylabel(\"Stock Price (USD)\")\n",
    "plt.title(\"Tesla Stock Price Over Time\")\n",
    "plt.legend()\n",
    "plt.show()\n"
   ]
  },
  {
   "cell_type": "code",
   "execution_count": 19,
   "id": "e7280eaa-1bf5-4fcd-a017-0534c2ddd5f3",
   "metadata": {},
   "outputs": [
    {
     "data": {
      "image/png": "[encoded data removed]",
      "text/plain": [
       "<Figure size 1000x500 with 1 Axes>"
      ]
     },
     "metadata": {},
     "output_type": "display_data"
    }
   ],
   "source": [
    "import yfinance as yf\n",
    "import matplotlib.pyplot as plt\n",
    "\n",
    "# Fetch Tesla stock data\n",
    "tesla = yf.Ticker(\"TSLA\")\n",
    "\n",
    "# Get historical stock data for Tesla\n",
    "tesla_stock = tesla.history(period=\"1y\")  # Adjust period as needed\n",
    "\n",
    "# Plot Tesla stock prices\n",
    "plt.figure(figsize=(10, 5))\n",
    "plt.plot(tesla_stock.index, tesla_stock[\"Close\"], label=\"Tesla Stock Price\", color=\"blue\")\n",
    "\n",
    "plt.xlabel(\"Date\")\n",
    "plt.ylabel(\"Stock Price (USD)\")\n",
    "plt.title(\"Tesla Stock Price Over Time\")\n",
    "plt.legend()\n",
    "plt.show()\n"
   ]
  },
  {
   "cell_type": "code",
   "execution_count": 20,
   "id": "6f2e70ff-4587-4329-932d-0c81f994fc84",
   "metadata": {},
   "outputs": [
    {
     "data": {
      "image/png": "[encoded data removed]",
      "text/plain": [
       "<Figure size 1000x500 with 1 Axes>"
      ]
     },
     "metadata": {},
     "output_type": "display_data"
    }
   ],
   "source": [
    "plt.figure(figsize=(10,5))\n",
    "plt.plot(gamestop_stock.index, gamestop_stock[\"Close\"], label=\"GameStop Stock Price\", color=\"red\")\n",
    "plt.xlabel(\"Date\")\n",
    "plt.ylabel(\"Stock Price (USD)\")\n",
    "plt.title(\"GameStop Stock Price Over Time\")\n",
    "plt.legend()\n",
    "plt.show()\n"
   ]
  },
  {
   "cell_type": "code",
   "execution_count": 21,
   "id": "b4bd1800-7f60-4ce2-8552-6cf8f236177e",
   "metadata": {},
   "outputs": [
    {
     "data": {
      "text/html": [
       "<div>\n",
       "<style scoped>\n",
       "    .dataframe tbody tr th:only-of-type {\n",
       "        vertical-align: middle;\n",
       "    }\n",
       "\n",
       "    .dataframe tbody tr th {\n",
       "        vertical-align: top;\n",
       "    }\n",
       "\n",
       "    .dataframe thead th {\n",
       "        text-align: right;\n",
       "    }\n",
       "</style>\n",
       "<table border=\"1\" class=\"dataframe\">\n",
       "  <thead>\n",
       "    <tr style=\"text-align: right;\">\n",
       "      <th></th>\n",
       "      <th>Open</th>\n",
       "      <th>High</th>\n",
       "      <th>Low</th>\n",
       "      <th>Close</th>\n",
       "      <th>Volume</th>\n",
       "      <th>Dividends</th>\n",
       "      <th>Stock Splits</th>\n",
       "    </tr>\n",
       "    <tr>\n",
       "      <th>Date</th>\n",
       "      <th></th>\n",
       "      <th></th>\n",
       "      <th></th>\n",
       "      <th></th>\n",
       "      <th></th>\n",
       "      <th></th>\n",
       "      <th></th>\n",
       "    </tr>\n",
       "  </thead>\n",
       "  <tbody>\n",
       "    <tr>\n",
       "      <th>2010-06-29 00:00:00-04:00</th>\n",
       "      <td>1.266667</td>\n",
       "      <td>1.666667</td>\n",
       "      <td>1.169333</td>\n",
       "      <td>1.592667</td>\n",
       "      <td>281494500</td>\n",
       "      <td>0.0</td>\n",
       "      <td>0.0</td>\n",
       "    </tr>\n",
       "    <tr>\n",
       "      <th>2010-06-30 00:00:00-04:00</th>\n",
       "      <td>1.719333</td>\n",
       "      <td>2.028000</td>\n",
       "      <td>1.553333</td>\n",
       "      <td>1.588667</td>\n",
       "      <td>257806500</td>\n",
       "      <td>0.0</td>\n",
       "      <td>0.0</td>\n",
       "    </tr>\n",
       "    <tr>\n",
       "      <th>2010-07-01 00:00:00-04:00</th>\n",
       "      <td>1.666667</td>\n",
       "      <td>1.728000</td>\n",
       "      <td>1.351333</td>\n",
       "      <td>1.464000</td>\n",
       "      <td>123282000</td>\n",
       "      <td>0.0</td>\n",
       "      <td>0.0</td>\n",
       "    </tr>\n",
       "    <tr>\n",
       "      <th>2010-07-02 00:00:00-04:00</th>\n",
       "      <td>1.533333</td>\n",
       "      <td>1.540000</td>\n",
       "      <td>1.247333</td>\n",
       "      <td>1.280000</td>\n",
       "      <td>77097000</td>\n",
       "      <td>0.0</td>\n",
       "      <td>0.0</td>\n",
       "    </tr>\n",
       "    <tr>\n",
       "      <th>2010-07-06 00:00:00-04:00</th>\n",
       "      <td>1.333333</td>\n",
       "      <td>1.333333</td>\n",
       "      <td>1.055333</td>\n",
       "      <td>1.074000</td>\n",
       "      <td>103003500</td>\n",
       "      <td>0.0</td>\n",
       "      <td>0.0</td>\n",
       "    </tr>\n",
       "  </tbody>\n",
       "</table>\n",
       "</div>"
      ],
      "text/plain": [
       "                               Open      High       Low     Close     Volume  \\\n",
       "Date                                                                           \n",
       "2010-06-29 00:00:00-04:00  1.266667  1.666667  1.169333  1.592667  281494500   \n",
       "2010-06-30 00:00:00-04:00  1.719333  2.028000  1.553333  1.588667  257806500   \n",
       "2010-07-01 00:00:00-04:00  1.666667  1.728000  1.351333  1.464000  123282000   \n",
       "2010-07-02 00:00:00-04:00  1.533333  1.540000  1.247333  1.280000   77097000   \n",
       "2010-07-06 00:00:00-04:00  1.333333  1.333333  1.055333  1.074000  103003500   \n",
       "\n",
       "                           Dividends  Stock Splits  \n",
       "Date                                                \n",
       "2010-06-29 00:00:00-04:00        0.0           0.0  \n",
       "2010-06-30 00:00:00-04:00        0.0           0.0  \n",
       "2010-07-01 00:00:00-04:00        0.0           0.0  \n",
       "2010-07-02 00:00:00-04:00        0.0           0.0  \n",
       "2010-07-06 00:00:00-04:00        0.0           0.0  "
      ]
     },
     "execution_count": 21,
     "metadata": {},
     "output_type": "execute_result"
    }
   ],
   "source": [
    "import yfinance as yf\n",
    "\n",
    "# Fetch Tesla stock data\n",
    "tesla = yf.Ticker(\"TSLA\")\n",
    "\n",
    "# Get historical stock data\n",
    "tesla_stock = tesla.history(period=\"max\")\n",
    "\n",
    "# Display the first few rows\n",
    "tesla_stock.head()"
   ]
  },
  {
   "cell_type": "code",
   "execution_count": null,
   "id": "d6cefe1f-c0ad-4469-a05d-65f3c03c6bc9",
   "metadata": {},
   "outputs": [],
   "source": []
  }
 ],
 "metadata": {
  "kernelspec": {
   "display_name": "Python 3 (ipykernel)",
   "language": "python",
   "name": "python3"
  },
  "language_info": {
   "codemirror_mode": {
    "name": "ipython",
    "version": 3
   },
   "file_extension": ".py",
   "mimetype": "text/x-python",
   "name": "python",
   "nbconvert_exporter": "python",
   "pygments_lexer": "ipython3",
   "version": "3.12.8"
  }
 },
 "nbformat": 4,
 "nbformat_minor": 5
}
